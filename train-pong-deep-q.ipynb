{
 "cells": [
  {
   "cell_type": "code",
   "execution_count": null,
   "metadata": {
    "collapsed": false
   },
   "outputs": [],
   "source": [
    "%load_ext autoreload\n",
    "%autoreload 1\n",
    "%aimport ParallelEnvironment\n",
    "%aimport Worker\n",
    "%aimport Estimator_Pong"
   ]
  },
  {
   "cell_type": "code",
   "execution_count": null,
   "metadata": {
    "collapsed": true
   },
   "outputs": [],
   "source": [
    "import numpy as np\n",
    "import ParallelEnvironment\n",
    "import Worker\n",
    "import Estimator_Cliff_Walk\n",
    "from ParallelEnvironment import *\n",
    "from Worker import *\n",
    "from Estimator_Pong import *"
   ]
  },
  {
   "cell_type": "code",
   "execution_count": null,
   "metadata": {
    "collapsed": true
   },
   "outputs": [],
   "source": [
    "import tensorflow as tf\n",
    "import numpy as np\n"
   ]
  },
  {
   "cell_type": "code",
   "execution_count": null,
   "metadata": {
    "collapsed": true
   },
   "outputs": [],
   "source": [
    "import gym"
   ]
  },
  {
   "cell_type": "code",
   "execution_count": 5,
   "metadata": {
    "collapsed": false
   },
   "outputs": [
    {
     "name": "stderr",
     "output_type": "stream",
     "text": [
      "[2017-06-09 17:45:44,370] Making new env: Pong-v0\n",
      "[2017-06-09 17:45:44,509] Making new env: Pong-v0\n",
      "[2017-06-09 17:45:44,641] Making new env: Pong-v0\n",
      "[2017-06-09 17:45:44,773] Making new env: Pong-v0\n",
      "[2017-06-09 17:45:44,907] Making new env: Pong-v0\n",
      "[2017-06-09 17:45:45,039] Making new env: Pong-v0\n",
      "[2017-06-09 17:45:45,172] Making new env: Pong-v0\n",
      "[2017-06-09 17:45:45,305] Making new env: Pong-v0\n",
      "[2017-06-09 17:45:45,436] Making new env: Pong-v0\n",
      "[2017-06-09 17:45:45,569] Making new env: Pong-v0\n",
      "[2017-06-09 17:45:45,701] Making new env: Pong-v0\n",
      "[2017-06-09 17:45:45,832] Making new env: Pong-v0\n",
      "[2017-06-09 17:45:45,965] Making new env: Pong-v0\n",
      "[2017-06-09 17:45:46,097] Making new env: Pong-v0\n",
      "[2017-06-09 17:45:46,228] Making new env: Pong-v0\n",
      "[2017-06-09 17:45:46,362] Making new env: Pong-v0\n",
      "[2017-06-09 17:45:46,494] Making new env: Pong-v0\n",
      "[2017-06-09 17:45:46,626] Making new env: Pong-v0\n",
      "[2017-06-09 17:45:46,757] Making new env: Pong-v0\n",
      "[2017-06-09 17:45:46,890] Making new env: Pong-v0\n",
      "[2017-06-09 17:45:47,022] Making new env: Pong-v0\n",
      "[2017-06-09 17:45:47,154] Making new env: Pong-v0\n",
      "[2017-06-09 17:45:47,315] Making new env: Pong-v0\n",
      "[2017-06-09 17:45:47,446] Making new env: Pong-v0\n",
      "[2017-06-09 17:45:47,577] Making new env: Pong-v0\n",
      "[2017-06-09 17:45:47,709] Making new env: Pong-v0\n",
      "[2017-06-09 17:45:47,840] Making new env: Pong-v0\n",
      "[2017-06-09 17:45:47,978] Making new env: Pong-v0\n",
      "[2017-06-09 17:45:48,108] Making new env: Pong-v0\n",
      "[2017-06-09 17:45:48,239] Making new env: Pong-v0\n",
      "[2017-06-09 17:45:48,369] Making new env: Pong-v0\n",
      "[2017-06-09 17:45:48,500] Making new env: Pong-v0\n"
     ]
    }
   ],
   "source": [
    "tf.reset_default_graph()\n",
    "provider = EnvironmentProvider(\"Pong-v0\",True,[2,3],True,1,-1)\n",
    "parallel = ParallelEnvironment(provider, 32, 8, 4)"
   ]
  },
  {
   "cell_type": "code",
   "execution_count": null,
   "metadata": {
    "collapsed": false
   },
   "outputs": [],
   "source": [
    "estimator = Estimator(2,0.001)"
   ]
  },
  {
   "cell_type": "code",
   "execution_count": 7,
   "metadata": {
    "collapsed": true
   },
   "outputs": [],
   "source": [
    "def get_epsilon(step):\n",
    "    return 0.01"
   ]
  },
  {
   "cell_type": "code",
   "execution_count": 8,
   "metadata": {
    "collapsed": true
   },
   "outputs": [],
   "source": [
    "def calculate_q_targets(estimator, states, rewards, done):\n",
    "    next_max_q_values = np.max(estimator.predict_q_values(states), axis= 1)\n",
    "    next_max_q_values[done == 1] = 0\n",
    "    q_targets = rewards + next_max_q_values\n",
    "    return q_targets"
   ]
  },
  {
   "cell_type": "code",
   "execution_count": 9,
   "metadata": {
    "collapsed": true
   },
   "outputs": [],
   "source": [
    "def train(env, estimator, num_global_steps):\n",
    "    shared_states, shared_rewards, shared_done, shared_actions = env.get_shared_variables()\n",
    "    \n",
    "    for i in range(num_global_steps):\n",
    "        if ((i+1) % 1000) == 0:\n",
    "            print(\"curr step: {}\".format(i+1))\n",
    "            print(\"loss: {}\".format(loss))\n",
    "        epsilon = get_epsilon(i)\n",
    "        actions = estimator.choose_e_greedy_actions(shared_states, epsilon)\n",
    "        old_states = np.copy(shared_states)\n",
    "        #print(\"shared states before actions:\")\n",
    "        #print(shared_states)\n",
    "        #print(\"------------ \\n\")\n",
    "        #print(\"actions to be performed: \")\n",
    "        #print(actions)\n",
    "        #print(\"------------ \\n\")\n",
    "        \n",
    "        # rescale rewards\n",
    "        \n",
    "        \n",
    "        \n",
    "        \n",
    "        env.step(actions)\n",
    "        #print(\"check whether actions and internal actions are equivalent: \")\n",
    "        #print(np.argmax(shared_actions) == actions)\n",
    "        #print(\"external actions: \")\n",
    "        #print(actions)\n",
    "        #print(\"internal actions\")\n",
    "        #print(shared_actions)\n",
    "        #print(\"------------ \\n\")\n",
    "        #print(\"shared states:\")\n",
    "        #print(shared_states)\n",
    "        #print(\"------------ \\n\")\n",
    "        q_targets = calculate_q_targets(estimator, shared_states, shared_rewards, shared_done)\n",
    "        #print(\"q targets: \")\n",
    "        #print(q_targets)\n",
    "        loss = estimator.update(old_states, actions, q_targets)\n",
    "        #print(\"loss: \"+ str(loss))\n",
    "    return estimator\n",
    "        \n",
    "        \n",
    "        "
   ]
  },
  {
   "cell_type": "code",
   "execution_count": 16,
   "metadata": {
    "collapsed": false
   },
   "outputs": [
    {
     "data": {
      "text/plain": [
       "[<tf.Variable 'conv_1/kernel:0' shape=(8, 8, 1, 16) dtype=float32_ref>,\n",
       " <tf.Variable 'conv_1/bias:0' shape=(16,) dtype=float32_ref>,\n",
       " <tf.Variable 'conv_2/kernel:0' shape=(4, 4, 16, 32) dtype=float32_ref>,\n",
       " <tf.Variable 'conv_2/bias:0' shape=(32,) dtype=float32_ref>,\n",
       " <tf.Variable 'dense_1/kernel:0' shape=(2592, 256) dtype=float32_ref>,\n",
       " <tf.Variable 'dense_1/bias:0' shape=(256,) dtype=float32_ref>,\n",
       " <tf.Variable 'out/kernel:0' shape=(256, 2) dtype=float32_ref>,\n",
       " <tf.Variable 'out/bias:0' shape=(2,) dtype=float32_ref>,\n",
       " <tf.Variable 'beta1_power:0' shape=() dtype=float32_ref>,\n",
       " <tf.Variable 'beta2_power:0' shape=() dtype=float32_ref>,\n",
       " <tf.Variable 'conv_1/kernel/Adam:0' shape=(8, 8, 1, 16) dtype=float32_ref>,\n",
       " <tf.Variable 'conv_1/kernel/Adam_1:0' shape=(8, 8, 1, 16) dtype=float32_ref>,\n",
       " <tf.Variable 'conv_1/bias/Adam:0' shape=(16,) dtype=float32_ref>,\n",
       " <tf.Variable 'conv_1/bias/Adam_1:0' shape=(16,) dtype=float32_ref>,\n",
       " <tf.Variable 'conv_2/kernel/Adam:0' shape=(4, 4, 16, 32) dtype=float32_ref>,\n",
       " <tf.Variable 'conv_2/kernel/Adam_1:0' shape=(4, 4, 16, 32) dtype=float32_ref>,\n",
       " <tf.Variable 'conv_2/bias/Adam:0' shape=(32,) dtype=float32_ref>,\n",
       " <tf.Variable 'conv_2/bias/Adam_1:0' shape=(32,) dtype=float32_ref>,\n",
       " <tf.Variable 'dense_1/kernel/Adam:0' shape=(2592, 256) dtype=float32_ref>,\n",
       " <tf.Variable 'dense_1/kernel/Adam_1:0' shape=(2592, 256) dtype=float32_ref>,\n",
       " <tf.Variable 'dense_1/bias/Adam:0' shape=(256,) dtype=float32_ref>,\n",
       " <tf.Variable 'dense_1/bias/Adam_1:0' shape=(256,) dtype=float32_ref>,\n",
       " <tf.Variable 'out/kernel/Adam:0' shape=(256, 2) dtype=float32_ref>,\n",
       " <tf.Variable 'out/kernel/Adam_1:0' shape=(256, 2) dtype=float32_ref>,\n",
       " <tf.Variable 'out/bias/Adam:0' shape=(2,) dtype=float32_ref>,\n",
       " <tf.Variable 'out/bias/Adam_1:0' shape=(2,) dtype=float32_ref>]"
      ]
     },
     "execution_count": 16,
     "metadata": {},
     "output_type": "execute_result"
    }
   ],
   "source": [
    "tf.global_variables()"
   ]
  },
  {
   "cell_type": "code",
   "execution_count": 11,
   "metadata": {
    "collapsed": false,
    "scrolled": true
   },
   "outputs": [],
   "source": [
    "estimator = train(parallel, estimator, 100)"
   ]
  },
  {
   "cell_type": "code",
   "execution_count": 13,
   "metadata": {
    "collapsed": true
   },
   "outputs": [],
   "source": [
    "import time"
   ]
  },
  {
   "cell_type": "code",
   "execution_count": 18,
   "metadata": {
    "collapsed": true
   },
   "outputs": [],
   "source": [
    "def play(estimator, env):\n",
    "    state = env.reset()\n",
    "    done = False\n",
    "    while not done:\n",
    "        action = estimator.choose_greedy_actions([state])[0]\n",
    "        state, reward, done = env.step(action)\n",
    "        env.render()\n",
    "        time.sleep(0.1)"
   ]
  },
  {
   "cell_type": "code",
   "execution_count": 19,
   "metadata": {
    "collapsed": false
   },
   "outputs": [
    {
     "name": "stderr",
     "output_type": "stream",
     "text": [
      "[2017-06-09 17:36:40,939] Making new env: Pong-v0\n"
     ]
    }
   ],
   "source": [
    "envi = provider.create()"
   ]
  },
  {
   "cell_type": "code",
   "execution_count": 20,
   "metadata": {
    "collapsed": false
   },
   "outputs": [
    {
     "ename": "KeyboardInterrupt",
     "evalue": "",
     "output_type": "error",
     "traceback": [
      "\u001b[0;31m---------------------------------------------------------------------------\u001b[0m",
      "\u001b[0;31mKeyboardInterrupt\u001b[0m                         Traceback (most recent call last)",
      "\u001b[0;32m<ipython-input-20-2f52c0fc59e4>\u001b[0m in \u001b[0;36m<module>\u001b[0;34m()\u001b[0m\n\u001b[0;32m----> 1\u001b[0;31m \u001b[0mplay\u001b[0m\u001b[0;34m(\u001b[0m\u001b[0mestimator\u001b[0m\u001b[0;34m,\u001b[0m \u001b[0menvi\u001b[0m\u001b[0;34m)\u001b[0m\u001b[0;34m\u001b[0m\u001b[0m\n\u001b[0m",
      "\u001b[0;32m<ipython-input-18-f7e21c9b2af3>\u001b[0m in \u001b[0;36mplay\u001b[0;34m(estimator, env)\u001b[0m\n\u001b[1;32m      6\u001b[0m         \u001b[0mstate\u001b[0m\u001b[0;34m,\u001b[0m \u001b[0mreward\u001b[0m\u001b[0;34m,\u001b[0m \u001b[0mdone\u001b[0m \u001b[0;34m=\u001b[0m \u001b[0menv\u001b[0m\u001b[0;34m.\u001b[0m\u001b[0mstep\u001b[0m\u001b[0;34m(\u001b[0m\u001b[0maction\u001b[0m\u001b[0;34m)\u001b[0m\u001b[0;34m\u001b[0m\u001b[0m\n\u001b[1;32m      7\u001b[0m         \u001b[0menv\u001b[0m\u001b[0;34m.\u001b[0m\u001b[0mrender\u001b[0m\u001b[0;34m(\u001b[0m\u001b[0;34m)\u001b[0m\u001b[0;34m\u001b[0m\u001b[0m\n\u001b[0;32m----> 8\u001b[0;31m         \u001b[0mtime\u001b[0m\u001b[0;34m.\u001b[0m\u001b[0msleep\u001b[0m\u001b[0;34m(\u001b[0m\u001b[0;36m0.1\u001b[0m\u001b[0;34m)\u001b[0m\u001b[0;34m\u001b[0m\u001b[0m\n\u001b[0m",
      "\u001b[0;31mKeyboardInterrupt\u001b[0m: "
     ]
    }
   ],
   "source": [
    "play(estimator, envi)"
   ]
  },
  {
   "cell_type": "code",
   "execution_count": 49,
   "metadata": {
    "collapsed": false
   },
   "outputs": [
    {
     "name": "stdout",
     "output_type": "stream",
     "text": [
      "10000000 loops, best of 3: 31.3 ns per loop\n"
     ]
    }
   ],
   "source": [
    "%%timeit\n",
    "if a > 1:\n",
    "    b = 1"
   ]
  }
 ],
 "metadata": {
  "anaconda-cloud": {},
  "kernelspec": {
   "display_name": "Python [conda env:tensorflow]",
   "language": "python",
   "name": "conda-env-tensorflow-py"
  },
  "language_info": {
   "codemirror_mode": {
    "name": "ipython",
    "version": 3
   },
   "file_extension": ".py",
   "mimetype": "text/x-python",
   "name": "python",
   "nbconvert_exporter": "python",
   "pygments_lexer": "ipython3",
   "version": "3.6.1"
  }
 },
 "nbformat": 4,
 "nbformat_minor": 2
}
